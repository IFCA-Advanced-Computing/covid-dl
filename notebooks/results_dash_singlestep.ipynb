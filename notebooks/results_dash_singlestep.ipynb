{
 "cells": [
  {
   "cell_type": "markdown",
   "metadata": {},
   "source": [
    "# Model comparison (single step) - Dash/Plotly\n",
    "\n",
    "This notebook is meant as a visualization of the comparison of the different model performances. The comparison metric is the error in predicting incidence a `t+7` (as we have done for single step models in the other notebooks). The predictions shown for multistep models are just the ones for `t+7`.\n",
    "\n",
    "To run this notebook you will need to install node.js and the plotly extension for jupyterlab:\n",
    "```bash\n",
    "curl -fsSL https://deb.nodesource.com/setup_16.x | sudo -E bash -\n",
    "sudo apt-get install -y nodejs\n",
    "jupyter labextension install jupyterlab-plotly\n",
    "pip install jupyterlab-dash\n",
    "```"
   ]
  },
  {
   "cell_type": "code",
   "execution_count": 1,
   "metadata": {},
   "outputs": [],
   "source": [
    "import sys\n",
    "sys.path.insert(0, \"/home/iheredia/ignacio/covid/covid-dl/src\")\n",
    "from paths import PATHS\n",
    "from data.base import make_splits, get_data, single_X_y"
   ]
  },
  {
   "cell_type": "code",
   "execution_count": 2,
   "metadata": {},
   "outputs": [],
   "source": [
    "import pathlib\n",
    "\n",
    "import matplotlib\n",
    "import matplotlib.pylab as plt\n",
    "import numpy as np\n",
    "import pandas as pd\n",
    "\n",
    "import dash_core_components as dcc\n",
    "import dash_html_components as html\n",
    "from dash.dependencies import Input, Output, State\n",
    "from jupyter_dash import JupyterDash\n",
    "import plotly.express as px\n",
    "import plotly.graph_objects as go"
   ]
  },
  {
   "cell_type": "code",
   "execution_count": 3,
   "metadata": {},
   "outputs": [
    {
     "name": "stderr",
     "output_type": "stream",
     "text": [
      "/home/iheredia/anaconda3/lib/python3.8/site-packages/pandas/core/frame.py:3065: SettingWithCopyWarning: \n",
      "A value is trying to be set on a copy of a slice from a DataFrame.\n",
      "Try using .loc[row_indexer,col_indexer] = value instead\n",
      "\n",
      "See the caveats in the documentation: https://pandas.pydata.org/pandas-docs/stable/user_guide/indexing.html#returning-a-view-versus-a-copy\n",
      "  self[k1] = value[k2]\n"
     ]
    }
   ],
   "source": [
    "dataset = get_data(trend=True)\n",
    "splits = make_splits(dataset,\n",
    "                     norm=False)\n",
    "X, y = single_X_y(splits)\n",
    "\n",
    "training_end = splits['val']['X'].index[0][0]  # end of training date\n",
    "validation_end = splits['test']['X'].index[0][0]  # end of validation date"
   ]
  },
  {
   "cell_type": "code",
   "execution_count": 4,
   "metadata": {},
   "outputs": [],
   "source": [
    "# Load predictions\n",
    "pred = []\n",
    "for f in pathlib.Path('single_step').glob('pred_*'):\n",
    "    pred.append(pd.read_csv(f, index_col=['date', 'province']))\n",
    "pred = pd.concat(pred, axis=1)"
   ]
  },
  {
   "cell_type": "markdown",
   "metadata": {},
   "source": [
    "# TSNE embedding"
   ]
  },
  {
   "cell_type": "code",
   "execution_count": 5,
   "metadata": {},
   "outputs": [],
   "source": [
    "# from sklearn.manifold import TSNE\n",
    "\n",
    "# X_emb = TSNE(n_components=2).fit_transform(X)\n",
    "# X_emb = pd.DataFrame(X_emb, index=X.index, columns=['x', 'y'])\n",
    "# X_emb.to_csv(\"single_step/tsne.csv\")\n",
    "\n",
    "X_emb = pd.read_csv(\"single_step/tsne.csv\", index_col=['date', 'province'])"
   ]
  },
  {
   "cell_type": "code",
   "execution_count": 6,
   "metadata": {},
   "outputs": [],
   "source": [
    "provinces = X_emb.index.get_level_values(1)\n",
    "dates_dt = X_emb.index.get_level_values(0)\n",
    "dates_dt = pd.to_datetime(dates_dt)\n",
    "\n",
    "options = ['dates', 'training set', 'provinces', 'incidence 7 (t+7)'] + [f'{c} error' for c in pred.columns]\n",
    "hnames = X.index.map(' '.join)\n",
    "join_df = pd.concat([X, y, pred], axis=1)\n",
    "hdata = {f'{c}': join_df[c].map('{:.2f}'.format) for c in join_df.columns}"
   ]
  },
  {
   "cell_type": "code",
   "execution_count": 7,
   "metadata": {
    "tags": []
   },
   "outputs": [
    {
     "data": {
      "text/html": [
       "\n",
       "        <iframe\n",
       "            width=\"100%\"\n",
       "            height=\"650\"\n",
       "            src=\"http://127.0.0.1:8070/\"\n",
       "            frameborder=\"0\"\n",
       "            allowfullscreen\n",
       "        ></iframe>\n",
       "        "
      ],
      "text/plain": [
       "<IPython.lib.display.IFrame at 0x7f8680349b20>"
      ]
     },
     "metadata": {},
     "output_type": "display_data"
    }
   ],
   "source": [
    "app = JupyterDash(__name__)\n",
    "\n",
    "app.layout = html.Div([\n",
    "    html.H1(\"TSNE embedding\"),\n",
    "    \n",
    "    dcc.Dropdown(\n",
    "        id='dropdown',\n",
    "        clearable=False,\n",
    "        value='incidence 7 (t+7)',\n",
    "        options=[{'label': i, 'value': i} for i in options]),\n",
    "   \n",
    "    dcc.Graph(id='graph',\n",
    "              style={'width': '100vh',\n",
    "                     'height': '100vh'}),\n",
    "\n",
    "])\n",
    "\n",
    "@app.callback(\n",
    "    Output('graph', 'figure'),\n",
    "    [Input('dropdown', 'value')]\n",
    ")\n",
    "def update_figure(var):\n",
    "    common = {'x': X_emb['x'],\n",
    "              'y': X_emb['y'],\n",
    "              'opacity': 0.7, \n",
    "              'hover_name': hnames,\n",
    "              'hover_data': hdata,\n",
    "              'template': 'seaborn',\n",
    "             }\n",
    "    \n",
    "    if var=='dates':\n",
    "        fig = px.scatter(color=(dates_dt - dates_dt[0]).days,\n",
    "                         color_continuous_scale='plasma',\n",
    "                         **common)\n",
    "\n",
    "    elif var=='training set':\n",
    "        fig = px.scatter(color=(dates <  training_end),\n",
    "                         **common)\n",
    "        \n",
    "    elif var=='provinces':\n",
    "        fig = px.scatter(color=provinces,\n",
    "                         **common)\n",
    "\n",
    "    elif var=='incidence 7 (t+7)':\n",
    "        fig = px.scatter(color=y['incidence 7 (t+7)'],\n",
    "                         color_continuous_scale='RdYlGn_r',\n",
    "                         **common)\n",
    "        \n",
    "    elif var.endswith(' error'):\n",
    "        c = var.split(' error')[0]\n",
    "        fig = px.scatter(color=np.abs(y['incidence 7 (t+7)'] - pred[c]),\n",
    "                         color_continuous_scale='matter',\n",
    "                         **common)\n",
    "\n",
    "    else:\n",
    "        raise Exception('Missing key')\n",
    "        \n",
    "    fig.layout.uirevision = True  # keep zoom levels between changes\n",
    "    \n",
    "    return fig\n",
    "\n",
    "app.run_server(mode='inline', port=8070)\n",
    "# app.run_server(mode='external', port=8070)  # bigger window"
   ]
  },
  {
   "cell_type": "code",
   "execution_count": 8,
   "metadata": {},
   "outputs": [
    {
     "name": "stdout",
     "output_type": "stream",
     "text": [
      "date                        2021-01-02    2020-12-24\n",
      "province                       Segovia         Soria\n",
      "external risk           10130522716.00 5385685238.00\n",
      "external risk (acc)               0.08         -0.08\n",
      "external risk (vel)               0.13         -0.04\n",
      "flux intra               1137668472.00 1057751920.00\n",
      "flux intra (acc)                 -0.01         -0.02\n",
      "flux intra (vel)                 -0.00         -0.03\n",
      "incidence 7                     187.00         30.00\n",
      "incidence 7 (acc)                -0.14         -0.03\n",
      "incidence 7 (vel)                 0.08          0.17\n",
      "incidence 7 (t+7)               417.00         34.00\n",
      "Gradient Boost                  252.00         63.00\n",
      "Feedforward                     272.00         68.00\n",
      "Feedforward (multistep)         262.00         59.00\n"
     ]
    }
   ],
   "source": [
    "# Compare points\n",
    "with pd.option_context('display.float_format', '{:.2f}'.format):\n",
    "    print(pd.concat([X, y, pred], axis=1).loc[[('2021-01-02','Segovia'),\n",
    "                                               ('2020-12-24','Soria')]].T)"
   ]
  },
  {
   "cell_type": "markdown",
   "metadata": {},
   "source": [
    "# Province time series"
   ]
  },
  {
   "cell_type": "code",
   "execution_count": 9,
   "metadata": {},
   "outputs": [
    {
     "data": {
      "text/html": [
       "\n",
       "        <iframe\n",
       "            width=\"100%\"\n",
       "            height=\"650\"\n",
       "            src=\"http://127.0.0.1:8075/\"\n",
       "            frameborder=\"0\"\n",
       "            allowfullscreen\n",
       "        ></iframe>\n",
       "        "
      ],
      "text/plain": [
       "<IPython.lib.display.IFrame at 0x7f86802add30>"
      ]
     },
     "metadata": {},
     "output_type": "display_data"
    }
   ],
   "source": [
    "app = JupyterDash(__name__)\n",
    "app.layout = html.Div([\n",
    "    html.H1(\"Province trend\"),\n",
    "\n",
    "    dcc.Dropdown(\n",
    "        id='dropdown',\n",
    "        clearable=False,\n",
    "        value=provinces[0],\n",
    "        options=[{'label': p, 'value': p} for p in provinces.unique()]),\n",
    "    \n",
    "    dcc.Graph(id='graph'),\n",
    "])\n",
    "\n",
    "@app.callback(\n",
    "    Output('graph', 'figure'),\n",
    "    [Input('dropdown', 'value')]\n",
    ")\n",
    "def update_figure(province):\n",
    "    dfx = X.xs(province, level=1, drop_level=True)\n",
    "    dfy = y.xs(province, level=1, drop_level=True)\n",
    "    dfp = pred.xs(province, level=1, drop_level=True)\n",
    "    \n",
    "    fig = go.Figure(layout={'template': 'seaborn'})\n",
    "    fig.add_trace(go.Scatter(x=dfx.index,\n",
    "                             y=dfx['incidence 7'],\n",
    "                             name='incidence 7'))\n",
    "    fig.add_trace(go.Scatter(x=dfy.index,\n",
    "                             y=dfy['incidence 7 (t+7)'],\n",
    "                             name='incidence 7 (t+7)'))\n",
    "    for c in dfp.columns:\n",
    "        fig.add_trace(go.Scatter(x=dfp.index,\n",
    "                                 y=dfp[c],\n",
    "                                 name=c))\n",
    "    fig.add_vline(x=training_end, line_width=3, line_dash='dash', line_color='black')\n",
    "    fig.update_layout(hovermode='x unified')\n",
    "\n",
    "\n",
    "    return fig\n",
    "\n",
    "app.run_server(mode='inline', port=8075)\n",
    "# app.run_server(mode='external', port=8075)  # bigger"
   ]
  },
  {
   "cell_type": "markdown",
   "metadata": {},
   "source": [
    "# Provinces comparison"
   ]
  },
  {
   "cell_type": "code",
   "execution_count": 10,
   "metadata": {},
   "outputs": [],
   "source": [
    "diff = pred.subtract(y['incidence 7 (t+7)'], axis='index').abs()\n",
    "dates = diff.index.get_level_values(0)\n",
    "dranges = {'train': dates < training_end, \n",
    "           'val': (dates >= training_end) & (dates < validation_end),\n",
    "           'test': dates >= validation_end,\n",
    "           'val+test': dates >= training_end}"
   ]
  },
  {
   "cell_type": "code",
   "execution_count": 11,
   "metadata": {},
   "outputs": [
    {
     "data": {
      "text/html": [
       "\n",
       "        <iframe\n",
       "            width=\"100%\"\n",
       "            height=\"650\"\n",
       "            src=\"http://127.0.0.1:8072/\"\n",
       "            frameborder=\"0\"\n",
       "            allowfullscreen\n",
       "        ></iframe>\n",
       "        "
      ],
      "text/plain": [
       "<IPython.lib.display.IFrame at 0x7f8680253a30>"
      ]
     },
     "metadata": {},
     "output_type": "display_data"
    }
   ],
   "source": [
    "# All model at the same time\n",
    "app = JupyterDash(__name__)\n",
    "app.layout = html.Div([\n",
    "    html.H1(\"Results by provinces\"),\n",
    "    \n",
    "    dcc.Checklist(\n",
    "        id='checklist',\n",
    "        options=[{'label': 'logscale', 'value': 'logscale'},\n",
    "                 {'label': 'sort', 'value': 'sort'},],\n",
    "        value=[],\n",
    "    ),\n",
    "    \n",
    "    dcc.Dropdown(\n",
    "        id='dropdown',\n",
    "        clearable=False,\n",
    "        value='val+test',\n",
    "        options=[{'label': p, 'value': p} for p in dranges.keys()]),\n",
    "    \n",
    "    dcc.Graph(id='graph',\n",
    "              style={'width': '100vh',\n",
    "                     'height': '100vh'}),\n",
    "])\n",
    "\n",
    "@app.callback(\n",
    "    Output('graph', 'figure'),\n",
    "    [Input('dropdown', 'value')],\n",
    "    [Input('checklist', 'value')]\n",
    ")\n",
    "def update_figure(k, options):\n",
    "    dft = diff[dranges[k]]\n",
    "    dft = dft.unstack().mean(axis=0).unstack(0)\n",
    "    if 'sort' in options:\n",
    "        args = dft.mean(axis=1).argsort()\n",
    "        dft = dft.iloc[args]\n",
    "    dft = dft.append(dft.iloc[0, :])  # repeat first element to close plot\n",
    "    \n",
    "    fig = go.Figure()\n",
    "    for c in dft.columns:\n",
    "        fig.add_trace(go.Scatterpolar(\n",
    "            r = dft[c],\n",
    "            theta = dft.index,\n",
    "            name=c,\n",
    "            fill='tonext'\n",
    "        ))\n",
    "    \n",
    "    fig.layout.template = 'seaborn'\n",
    "    fig.layout.title = 'Error in predicted incidence (smaller is better)'\n",
    "    if 'logscale' in options:\n",
    "        fig.layout.polar.radialaxis.type = \"log\"\n",
    "    \n",
    "    return fig\n",
    "\n",
    "app.run_server(mode='inline', port=8072)\n",
    "# app.run_server(mode='external', port=8072)  # bigger"
   ]
  },
  {
   "cell_type": "code",
   "execution_count": 18,
   "metadata": {},
   "outputs": [
    {
     "data": {
      "text/html": [
       "\n",
       "        <iframe\n",
       "            width=\"100%\"\n",
       "            height=\"650\"\n",
       "            src=\"http://127.0.0.1:8071/\"\n",
       "            frameborder=\"0\"\n",
       "            allowfullscreen\n",
       "        ></iframe>\n",
       "        "
      ],
      "text/plain": [
       "<IPython.lib.display.IFrame at 0x7f8673788460>"
      ]
     },
     "metadata": {},
     "output_type": "display_data"
    }
   ],
   "source": [
    "# Compare two models\n",
    "app = JupyterDash(__name__)\n",
    "app.layout = html.Div([\n",
    "    html.H1(\"Results by provinces\"),\n",
    "    \n",
    "    dcc.Checklist(\n",
    "        id='options',\n",
    "        options=[{'label': 'logscale', 'value': 'logscale'}],\n",
    "        value=[],\n",
    "    ),\n",
    "    \n",
    "    dcc.Dropdown(\n",
    "        id='dataset',\n",
    "        clearable=False,\n",
    "        value='val+test',\n",
    "        options=[{'label': p, 'value': p} for p in dranges.keys()]),\n",
    "    \n",
    "    dcc.Dropdown(\n",
    "        id='model1',\n",
    "        clearable=False,\n",
    "        value=pred.columns[0],\n",
    "        options=[{'label': p, 'value': p} for p in pred.columns]),\n",
    "    \n",
    "    dcc.Dropdown(\n",
    "        id='model2',\n",
    "        clearable=False,\n",
    "        value=pred.columns[1],\n",
    "        options=[{'label': p, 'value': p} for p in pred.columns]),\n",
    "    \n",
    "    dcc.Graph(id='graph',\n",
    "              style={'width': '100vh',\n",
    "                     'height': '100vh'}),\n",
    "])\n",
    "\n",
    "@app.callback(\n",
    "    Output('graph', 'figure'),\n",
    "    [Input('dataset', 'value')],\n",
    "    [Input('model1', 'value')],\n",
    "    [Input('model2', 'value')],\n",
    "    [Input('options', 'value')]\n",
    ")\n",
    "def update_figure(k, m0, m1, options):\n",
    "\n",
    "    # Select dates\n",
    "    dft = diff[dranges[k]]\n",
    "    dft = dft.unstack().mean(axis=0).unstack(0)\n",
    "\n",
    "    # Compare columns and sort\n",
    "    order = dft[m0] - dft[m1]\n",
    "    args = order.argsort()\n",
    "    dft = dft.iloc[args]\n",
    "\n",
    "    fig = go.Figure()\n",
    "\n",
    "    # Add fancy coloring\n",
    "    tmp = pd.DataFrame(0, index=dft.index, columns=[0, 1])\n",
    "    tmp[0].update(dft[m1][order[args] < 0])    \n",
    "    tmp[1].update(dft[m0][order[args] >= 0])    \n",
    "\n",
    "    fig.add_trace(go.Scatterpolar(\n",
    "        r = tmp[0],\n",
    "        theta = tmp.index,\n",
    "        text = f'{m0} wins',\n",
    "        hoverinfo = 'text',\n",
    "        line = {'color': 'rgba(0,0,0,0.)'},   \n",
    "        showlegend=False,\n",
    "        fill='toself',\n",
    "        fillcolor='rgba(26,150,65,0.5)',\n",
    "    ))\n",
    "    fig.add_trace(go.Scatterpolar(\n",
    "        r = tmp[1],\n",
    "        theta = tmp.index,\n",
    "        name = f'{m0} losses',\n",
    "        hoverinfo = 'text',\n",
    "        line = {'color': 'rgba(0,0,0,0.)'},\n",
    "        showlegend=False,\n",
    "        fill='toself',\n",
    "        fillcolor='rgba(202,16,16,0.5)',\n",
    "        connectgaps=False\n",
    "    ))\n",
    "    fig.add_trace(go.Scatterpolar(\n",
    "        r = dft[[m0, m1]].min(axis=1),\n",
    "        theta = dft.index,\n",
    "        name = '', \n",
    "        line = {'color': 'rgba(0,0,0,0.)'},\n",
    "        showlegend=False,\n",
    "        fill='toself',\n",
    "        fillcolor='rgba(211,211,211,1.)',\n",
    "    ))\n",
    "\n",
    "    # Add the proper traces\n",
    "    colors = ['rgba(23, 102, 171, 1)', 'rgba(152, 61, 145, 1)']\n",
    "    for i, modelname in enumerate([m0, m1]):\n",
    "        fig.add_trace(go.Scatterpolar(\n",
    "            r = dft[modelname],\n",
    "            theta = dft.index,\n",
    "            name=modelname,\n",
    "            line = {'color': colors[i]},\n",
    "            hoverinfo='skip'\n",
    "        ))\n",
    "\n",
    "    fig.layout.template = 'seaborn'\n",
    "    fig.layout.title = 'Error in predicted incidence (smaller is better)'\n",
    "    if 'logscale' in options:\n",
    "        fig.layout.polar.radialaxis.type = \"log\"\n",
    "    \n",
    "    return fig\n",
    "\n",
    "app.run_server(mode='inline', port=8071)\n",
    "# app.run_server(mode='external', port=8071)  # bigger"
   ]
  }
 ],
 "metadata": {
  "kernelspec": {
   "display_name": "Python 3",
   "language": "python",
   "name": "python3"
  },
  "language_info": {
   "codemirror_mode": {
    "name": "ipython",
    "version": 3
   },
   "file_extension": ".py",
   "mimetype": "text/x-python",
   "name": "python",
   "nbconvert_exporter": "python",
   "pygments_lexer": "ipython3",
   "version": "3.8.5"
  }
 },
 "nbformat": 4,
 "nbformat_minor": 4
}
