{
 "cells": [
  {
   "cell_type": "markdown",
   "metadata": {},
   "source": [
    "# Feedforward network\n",
    "\n",
    "We have tested a number of configurations:\n",
    "\n",
    "* **Testing optimizers**\n",
    "    - Adam(amsgrad=True) > SGD+scheduling > Adam\n",
    "    - lr scheduling and gradient clipping didn't help either. \n",
    "    - Optimal initial learning rate: 1e-3\n",
    "\n",
    "* **Testing different losses and metrics**\n",
    "    - RMSE and MAE are fine.\n",
    "    - MAPE can give extremely high values because incidence is zero a lot of times, not very reliable metric in our case.\n",
    "\n",
    "* **Testing layers**\n",
    "    - Batchnorm makes things worse\n",
    "    - Dropout doesn't make things worse but doesn't improve generalization\n",
    "    - regularizing dense layer (kernel/activity/bias) didn't helped either\n",
    "    - RELU performed better than ELU\n",
    "    - 4 layers, 500 cells seems about the right size\n",
    "    - He_uniform initialization has slightly faster convergence\n",
    "    \n",
    "* **Testing callbacks**\n",
    "    - ReduceLROnPlateau made things worse\n",
    "    - EarlyStopping not needed because training is short"
   ]
  },
  {
   "cell_type": "code",
   "execution_count": 1,
   "metadata": {},
   "outputs": [],
   "source": [
    "# Local imports\n",
    "import pathlib\n",
    "import sys\n",
    "sys.path.insert(0, str(pathlib.Path.cwd().parent / 'src'))\n",
    "\n",
    "from paths import PATHS\n",
    "from data.base import make_splits, get_data, single_X_y, unprocess"
   ]
  },
  {
   "cell_type": "code",
   "execution_count": 2,
   "metadata": {},
   "outputs": [],
   "source": [
    "import matplotlib\n",
    "import matplotlib.pylab as plt\n",
    "import numpy as np\n",
    "import pandas as pd\n",
    "\n",
    "import tensorflow as tf\n",
    "import tensorflow.keras as keras\n",
    "from tensorflow.keras.models import Sequential\n",
    "from tensorflow.keras.layers import BatchNormalization, Dense, Dropout, Activation, Flatten\n",
    "import tensorflow.keras.backend as K"
   ]
  },
  {
   "cell_type": "code",
   "execution_count": 4,
   "metadata": {},
   "outputs": [
    {
     "name": "stderr",
     "output_type": "stream",
     "text": [
      "/home/iheredia/anaconda3/lib/python3.8/site-packages/pandas/core/frame.py:3065: SettingWithCopyWarning: \n",
      "A value is trying to be set on a copy of a slice from a DataFrame.\n",
      "Try using .loc[row_indexer,col_indexer] = value instead\n",
      "\n",
      "See the caveats in the documentation: https://pandas.pydata.org/pandas-docs/stable/user_guide/indexing.html#returning-a-view-versus-a-copy\n",
      "  self[k1] = value[k2]\n"
     ]
    }
   ],
   "source": [
    "df = get_data(trend=True)\n",
    "splits = make_splits(df,\n",
    "                     norm=True)\n",
    "X, y = single_X_y(splits)"
   ]
  },
  {
   "cell_type": "code",
   "execution_count": 5,
   "metadata": {
    "tags": []
   },
   "outputs": [],
   "source": [
    "# Sample weights (recent samples have higher weight)\n",
    "dates = splits['train']['X'].index.get_level_values(0)\n",
    "dates = pd.to_datetime(dates)\n",
    "n = (dates[-1] - dates).days\n",
    "w = 0.99 ** n  # geometric discount (works better than linear) "
   ]
  },
  {
   "cell_type": "code",
   "execution_count": 6,
   "metadata": {},
   "outputs": [],
   "source": [
    "# Formatting for this specific notebook: Transform to arrays of float32\n",
    "for i in ['train', 'val', 'test']:\n",
    "    splits[i]['X'] = splits[i]['X'].values.astype(np.float32)\n",
    "    splits[i]['y'] = splits[i]['y'].values.astype(np.float32)\n",
    "    splits[i]['y'] = np.expand_dims(splits[i]['y'], -1) # reshape output to (N, 1)"
   ]
  },
  {
   "cell_type": "code",
   "execution_count": 7,
   "metadata": {},
   "outputs": [],
   "source": [
    "def model_summary(model):\n",
    "    \n",
    "    print('\\n# Metrics')\n",
    "    metrics = {'mae': {}, 'mape': {}}\n",
    "    \n",
    "    for i in ['train', 'val', 'test']:\n",
    "        x_t = splits[i]['X']\n",
    "        y_t = splits[i]['y']\n",
    "\n",
    "        y_p = model.predict(x_t)\n",
    "        \n",
    "        y_t = pd.Series(y_t.squeeze())\n",
    "        y_p = pd.Series(y_p.squeeze())\n",
    "\n",
    "        mae = np.abs(y_p - y_t)\n",
    "        mape = np.abs( (y_p - y_t) / y_t)\n",
    "        mape = mape.replace([np.inf, -np.inf], np.nan)\n",
    "        \n",
    "        metrics['mae'][i] = mae.mean()\n",
    "        metrics['mape'][i] = mape.mean()\n",
    "\n",
    "        print(f' - {i.capitalize()}')\n",
    "        print(f'   Mean Absolute Error (in incidence): {mae.mean():.4f}')\n",
    "        print(f'   Mean Absolute Percentage Error (in incidence): {mape.mean():.4f}')\n",
    "        \n",
    "    return metrics\n",
    "\n",
    "\n",
    "def save_metrics(metrics, modelname):\n",
    "    for m in metrics.keys():\n",
    "        b = pd.DataFrame.from_dict(metrics[m], orient='index', columns=[modelname]).T\n",
    "        a = pd.read_csv(f'single_step/{m}.csv', index_col=0)\n",
    "        a = pd.concat([a[~a.index.isin(b.index)], b])\n",
    "        a.to_csv(f'single_step/{m}.csv')"
   ]
  },
  {
   "cell_type": "code",
   "execution_count": 10,
   "metadata": {},
   "outputs": [
    {
     "name": "stdout",
     "output_type": "stream",
     "text": [
      "404/404 [==============================] - 1s 2ms/step - loss: 375.1664 - mean_absolute_error: 15.9469\n",
      "Trained for 100 epochs\n"
     ]
    }
   ],
   "source": [
    "def build_model(layer_num, layer_cells):\n",
    "\n",
    "    model = Sequential()\n",
    "    for i in range(layer_num):\n",
    "        model.add(Dense(layer_cells,\n",
    "                        activation=\"relu\",\n",
    "                        kernel_initializer=\"he_uniform\",\n",
    "                        name=f\"dense{i}\"))\n",
    "\n",
    "    model.add(Dense(1,\n",
    "                    activation=\"relu\",\n",
    "                    name=\"output\"))\n",
    "    return model\n",
    "\n",
    "\n",
    "keras.backend.clear_session()\n",
    "\n",
    "model = build_model(layer_num=8, layer_cells=500)\n",
    "\n",
    "model.compile(loss='MeanSquaredError',\n",
    "              optimizer=keras.optimizers.Adam(amsgrad=True),\n",
    "              metrics=['MeanAbsoluteError'])\n",
    "\n",
    "history = model.fit(x=splits['train']['X'],\n",
    "                    y=splits['train']['y'],\n",
    "                    validation_data=(splits['val']['X'],\n",
    "                                     splits['val']['y']),\n",
    "                    batch_size=12000,\n",
    "                    epochs=100,\n",
    "                    verbose=0,\n",
    "                    shuffle=True)\n",
    "\n",
    "model.evaluate(x=splits['train']['X'],\n",
    "               y=splits['train']['y'],\n",
    "               sample_weight=w,\n",
    "              )\n",
    "\n",
    "print(f\"Trained for {len(history.history['loss'])} epochs\")"
   ]
  },
  {
   "cell_type": "code",
   "execution_count": 11,
   "metadata": {},
   "outputs": [
    {
     "name": "stdout",
     "output_type": "stream",
     "text": [
      "\n",
      "# Metrics\n",
      " - Train\n",
      "   Mean Absolute Error (in incidence): 15.9470\n",
      "   Mean Absolute Percentage Error (in incidence): 0.4812\n",
      " - Val\n",
      "   Mean Absolute Error (in incidence): 39.0170\n",
      "   Mean Absolute Percentage Error (in incidence): 0.2307\n",
      " - Test\n",
      "   Mean Absolute Error (in incidence): 18.4974\n",
      "   Mean Absolute Percentage Error (in incidence): 0.3268\n"
     ]
    },
    {
     "data": {
      "image/png": "[encoded data removed]",
      "text/plain": [
       "<Figure size 1008x576 with 2 Axes>"
      ]
     },
     "metadata": {
      "needs_background": "light"
     },
     "output_type": "display_data"
    }
   ],
   "source": [
    "metrics = model_summary(model)\n",
    "\n",
    "fig, axs = plt.subplots(1,2, figsize=(14,8))\n",
    "for i, m in enumerate(['loss', 'mean_absolute_error']):\n",
    "    axs[i].plot(history.history[m], label='train')\n",
    "    axs[i].plot(history.history[f'val_{m}'], label='val')\n",
    "    axs[i].set_title(m)\n",
    "    axs[i].legend()"
   ]
  },
  {
   "cell_type": "code",
   "execution_count": 12,
   "metadata": {},
   "outputs": [],
   "source": [
    "save_metrics(metrics, 'Feedforward')\n",
    "\n",
    "y_pred = model.predict(X)\n",
    "y_pred = np.round(y_pred).astype(np.int)\n",
    "dfp = pd.DataFrame(y_pred, index=X.index, columns=['Feedforward'])\n",
    "dfp.to_csv(\"single_step/pred_ff.csv\")"
   ]
  },
  {
   "cell_type": "code",
   "execution_count": 11,
   "metadata": {},
   "outputs": [],
   "source": [
    "# X_n = unprocess(X, norm=True, log=True)\n",
    "\n",
    "# # Sanity checks manual computation\n",
    "\n",
    "# y_pred = model.predict(splits['train']['X'])\n",
    "# diff = y_pred - splits['train']['y']\n",
    "# print(np.mean(diff**2))\n",
    "# print(np.mean(np.abs(diff)))\n",
    "\n",
    "# mae = tf.keras.metrics.MeanAbsoluteError()\n",
    "# print(mae(y_pred, splits['train']['y']).numpy())"
   ]
  },
  {
   "cell_type": "code",
   "execution_count": 12,
   "metadata": {},
   "outputs": [],
   "source": [
    "# # Save model and weights\n",
    "# if not os.path.isdir(save_dir):\n",
    "#     os.makedirs(save_dir)\n",
    "# model_path = os.path.join(save_dir, model_name)\n",
    "# model.save(model_path)\n",
    "# print('Saved trained model at %s ' % model_path)\n",
    "\n",
    "# # Score trained model.\n",
    "# scores = model.evaluate(x_test, y_test, verbose=1)\n",
    "# print('Test loss:', scores[0])\n",
    "# print('Test accuracy:', scores[1])"
   ]
  }
 ],
 "metadata": {
  "kernelspec": {
   "display_name": "Python 3",
   "language": "python",
   "name": "python3"
  },
  "language_info": {
   "codemirror_mode": {
    "name": "ipython",
    "version": 3
   },
   "file_extension": ".py",
   "mimetype": "text/x-python",
   "name": "python",
   "nbconvert_exporter": "python",
   "pygments_lexer": "ipython3",
   "version": "3.8.5"
  },
  "widgets": {
   "application/vnd.jupyter.widget-state+json": {
    "state": {},
    "version_major": 2,
    "version_minor": 0
   }
  }
 },
 "nbformat": 4,
 "nbformat_minor": 4
}
