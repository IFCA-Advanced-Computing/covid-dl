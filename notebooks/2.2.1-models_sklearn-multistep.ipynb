{
 "cells": [
  {
   "cell_type": "markdown",
   "metadata": {},
   "source": [
    "# Non deep learning models - multistep\n",
    "\n",
    "The multistep model is composed for a different regressor for each output variable so it's performance will be the same as the sinle step models.\n",
    "\n",
    "\n",
    "https://stackoverflow.com/questions/39540123/muti-output-regression-in-xgboost"
   ]
  },
  {
   "cell_type": "code",
   "execution_count": 1,
   "metadata": {},
   "outputs": [],
   "source": [
    "# Local imports\n",
    "import pathlib\n",
    "import sys\n",
    "sys.path.insert(0, str(pathlib.Path.cwd().parent / 'src'))\n",
    "\n",
    "from paths import PATHS\n",
    "from data.base import make_splits, get_data, single_X_y"
   ]
  },
  {
   "cell_type": "code",
   "execution_count": 8,
   "metadata": {},
   "outputs": [],
   "source": [
    "import matplotlib\n",
    "import matplotlib.pylab as plt\n",
    "import numpy as np\n",
    "import pandas as pd\n",
    "\n",
    "from sklearn.ensemble import GradientBoostingRegressor, RandomForestRegressor\n",
    "from sklearn.multioutput import MultiOutputRegressor"
   ]
  },
  {
   "cell_type": "code",
   "execution_count": 3,
   "metadata": {},
   "outputs": [
    {
     "name": "stderr",
     "output_type": "stream",
     "text": [
      "/home/iheredia/anaconda3/lib/python3.8/site-packages/pandas/core/frame.py:3065: SettingWithCopyWarning: \n",
      "A value is trying to be set on a copy of a slice from a DataFrame.\n",
      "Try using .loc[row_indexer,col_indexer] = value instead\n",
      "\n",
      "See the caveats in the documentation: https://pandas.pydata.org/pandas-docs/stable/user_guide/indexing.html#returning-a-view-versus-a-copy\n",
      "  self[k1] = value[k2]\n"
     ]
    }
   ],
   "source": [
    "df = get_data(trend=True, multistep=7)\n",
    "splits = make_splits(df,\n",
    "                     norm=False,\n",
    "                     multistep=7)\n",
    "X, y = single_X_y(splits)"
   ]
  },
  {
   "cell_type": "code",
   "execution_count": 4,
   "metadata": {},
   "outputs": [],
   "source": [
    "# # Format y for this specific notebook\n",
    "# y = y.loc[:, 'incidence 7 (t+7)']\n",
    "# for i in ['train', 'val', 'test']:\n",
    "#     splits[i]['y'] = splits[i]['y'].loc[:, 'incidence 7 (t+7)']"
   ]
  },
  {
   "cell_type": "code",
   "execution_count": 28,
   "metadata": {
    "tags": []
   },
   "outputs": [],
   "source": [
    "def model_summary(model):\n",
    "    \n",
    "#     print('# Feature importance')\n",
    "#     for i, j in zip(X.columns, model.feature_importances_):\n",
    "#         print(f'{j:.2f} - {i} ')\n",
    "    \n",
    "    print('\\n# Metrics')\n",
    "    metrics = {'mae': {}, 'mape': {}}\n",
    "    \n",
    "    for i in ['train', 'val', 'test']:\n",
    "        x_t = splits[i]['X']\n",
    "        y_t = splits[i]['y']\n",
    "\n",
    "        y_p = model.predict(x_t)\n",
    "        \n",
    "        # We just compare results for t+7 to be able to compare with single step\n",
    "        y_t = y_t[y_t.columns[-1]]\n",
    "        y_p = y_p[:, -1]\n",
    "        \n",
    "        mae = np.abs(y_p - y_t)\n",
    "        mape = np.abs( (y_p - y_t) / y_t)\n",
    "        mape = mape.replace([np.inf, -np.inf], np.nan)\n",
    "        \n",
    "        metrics['mae'][i] = mae.mean()\n",
    "        metrics['mape'][i] = mape.mean()\n",
    "\n",
    "        print(f' - {i.capitalize()}')\n",
    "        print(f'   Mean Absolute Error (in incidence): {mae.mean():.4f}')\n",
    "        print(f'   Mean Absolute Percentage Error (in incidence): {mape.mean():.4f}')\n",
    "        \n",
    "    return metrics\n",
    "\n",
    "\n",
    "def save_metrics(metrics, modelname):\n",
    "    for m in metrics.keys():\n",
    "        b = pd.DataFrame.from_dict(metrics[m], orient='index', columns=[modelname]).T\n",
    "        a = pd.read_csv(f'single_step/{m}.csv', index_col=0)\n",
    "        a = pd.concat([a[~a.index.isin(b.index)], b])\n",
    "        a.to_csv(f'single_step/{m}.csv')"
   ]
  },
  {
   "cell_type": "code",
   "execution_count": 5,
   "metadata": {
    "tags": []
   },
   "outputs": [],
   "source": [
    "# Sample weights (recent samples have higher weight)\n",
    "dates = splits['train']['X'].index.get_level_values(0)\n",
    "dates = pd.to_datetime(dates)\n",
    "n = (dates[-1] - dates).days\n",
    "w = 0.99 ** n  # geometric discount (works better than linear) "
   ]
  },
  {
   "cell_type": "code",
   "execution_count": 9,
   "metadata": {
    "tags": []
   },
   "outputs": [],
   "source": [
    "model = MultiOutputRegressor(\n",
    "    GradientBoostingRegressor(\n",
    "        n_estimators=100,\n",
    "        learning_rate=0.1,\n",
    "        max_depth=5,\n",
    "        random_state=0,\n",
    "        loss='ls')\n",
    ")\n",
    "model = model.fit(splits['train']['X'],\n",
    "                  splits['train']['y'],\n",
    "                  sample_weight=w)\n",
    "\n",
    "# metrics = model_summary(model)"
   ]
  },
  {
   "cell_type": "code",
   "execution_count": 29,
   "metadata": {},
   "outputs": [
    {
     "name": "stdout",
     "output_type": "stream",
     "text": [
      "\n",
      "# Metrics\n",
      " - Train\n",
      "   Mean Absolute Error (in incidence): 13.2096\n",
      "   Mean Absolute Percentage Error (in incidence): 0.4572\n",
      " - Val\n",
      "   Mean Absolute Error (in incidence): 39.6169\n",
      "   Mean Absolute Percentage Error (in incidence): 0.2230\n",
      " - Test\n",
      "   Mean Absolute Error (in incidence): 16.8738\n",
      "   Mean Absolute Percentage Error (in incidence): 0.3705\n"
     ]
    }
   ],
   "source": [
    "metrics = model_summary(model)"
   ]
  },
  {
   "cell_type": "code",
   "execution_count": 11,
   "metadata": {},
   "outputs": [],
   "source": [
    "# save_metrics(metrics, 'Gradient Boost')\n",
    "\n",
    "# y_pred = model.predict(X)\n",
    "# y_pred = np.round(y_pred).astype(np.int)\n",
    "# dfp = pd.DataFrame(y_pred, index=X.index, columns=['Gradient Boost'])\n",
    "# dfp.to_csv(\"single_step/pred_gradboost.csv\")"
   ]
  }
 ],
 "metadata": {
  "kernelspec": {
   "display_name": "Python 3",
   "language": "python",
   "name": "python3"
  },
  "language_info": {
   "codemirror_mode": {
    "name": "ipython",
    "version": 3
   },
   "file_extension": ".py",
   "mimetype": "text/x-python",
   "name": "python",
   "nbconvert_exporter": "python",
   "pygments_lexer": "ipython3",
   "version": "3.8.5"
  },
  "widgets": {
   "application/vnd.jupyter.widget-state+json": {
    "state": {},
    "version_major": 2,
    "version_minor": 0
   }
  }
 },
 "nbformat": 4,
 "nbformat_minor": 4
}
