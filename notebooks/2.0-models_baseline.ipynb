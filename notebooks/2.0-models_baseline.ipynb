{
 "cells": [
  {
   "cell_type": "markdown",
   "metadata": {},
   "source": [
    "Baseline model\n",
    "==============\n",
    "\n",
    "future incidence (`t+7`) == current incidence (`t`)"
   ]
  },
  {
   "cell_type": "code",
   "execution_count": 1,
   "metadata": {},
   "outputs": [],
   "source": [
    "import sys\n",
    "sys.path.insert(0, \"/home/iheredia/ignacio/covid/covid-dl/src\")\n",
    "from paths import PATHS\n",
    "from data.base import make_splits, get_data, single_X_y"
   ]
  },
  {
   "cell_type": "code",
   "execution_count": 2,
   "metadata": {},
   "outputs": [],
   "source": [
    "import matplotlib\n",
    "import matplotlib.pylab as plt\n",
    "import numpy as np\n",
    "import pandas as pd"
   ]
  },
  {
   "cell_type": "code",
   "execution_count": 3,
   "metadata": {},
   "outputs": [
    {
     "name": "stderr",
     "output_type": "stream",
     "text": [
      "/home/iheredia/anaconda3/lib/python3.8/site-packages/pandas/core/frame.py:3065: SettingWithCopyWarning: \n",
      "A value is trying to be set on a copy of a slice from a DataFrame.\n",
      "Try using .loc[row_indexer,col_indexer] = value instead\n",
      "\n",
      "See the caveats in the documentation: https://pandas.pydata.org/pandas-docs/stable/user_guide/indexing.html#returning-a-view-versus-a-copy\n",
      "  self[k1] = value[k2]\n"
     ]
    }
   ],
   "source": [
    "df = get_data(trend=False)\n",
    "splits = make_splits(df,\n",
    "                     norm=False)\n",
    "X, y = single_X_y(splits)\n",
    "\n",
    "# Simple check\n",
    "assert X.loc[('2020-09-15', 'Albacete'), 'incidence 7'] == y.loc[('2020-09-08', 'Albacete'), 'incidence 7 (t+7)']"
   ]
  },
  {
   "cell_type": "code",
   "execution_count": 7,
   "metadata": {
    "tags": []
   },
   "outputs": [],
   "source": [
    "def model_summary():\n",
    "    \n",
    "    print('\\n# Metrics')\n",
    "    metrics = {'mae': {}, 'mape': {}}\n",
    "    \n",
    "    for i in ['train', 'val', 'test']:\n",
    "        y_t = splits[i]['y'].loc[:, 'incidence 7 (t+7)']\n",
    "        y_p = splits[i]['X']['incidence 7']\n",
    "\n",
    "        mae = np.abs(y_p - y_t)\n",
    "        mape = np.abs( (y_p - y_t) / y_t)\n",
    "        mape = mape.replace([np.inf, -np.inf], np.nan)\n",
    "        \n",
    "        metrics['mae'][i] = mae.mean()\n",
    "        metrics['mape'][i] = mape.mean()\n",
    "\n",
    "        print(f' - {i.capitalize()}')\n",
    "        print(f'   Mean Absolute Error (in incidence): {mae.mean():.4f}')\n",
    "        print(f'   Mean Absolute Percentage Error (in incidence): {mape.mean():.4f}')\n",
    "        \n",
    "    return metrics\n",
    "\n",
    "\n",
    "def save_metrics(metrics, modelname):\n",
    "    for m in metrics.keys():\n",
    "        b = pd.DataFrame.from_dict(metrics[m], orient='index', columns=[modelname]).T\n",
    "        a = pd.read_csv(f'single_step/{m}.csv', index_col=0)\n",
    "        a = pd.concat([a[~a.index.isin(b.index)], b])\n",
    "        a.to_csv(f'single_step/{m}.csv')"
   ]
  },
  {
   "cell_type": "code",
   "execution_count": 9,
   "metadata": {},
   "outputs": [
    {
     "name": "stdout",
     "output_type": "stream",
     "text": [
      "\n",
      "# Metrics\n",
      " - Train\n",
      "   Mean Absolute Error (in incidence): 26.1197\n",
      "   Mean Absolute Percentage Error (in incidence): 0.4659\n",
      " - Val\n",
      "   Mean Absolute Error (in incidence): 59.5882\n",
      "   Mean Absolute Percentage Error (in incidence): 0.2950\n",
      " - Test\n",
      "   Mean Absolute Error (in incidence): 45.0234\n",
      "   Mean Absolute Percentage Error (in incidence): 0.7371\n"
     ]
    }
   ],
   "source": [
    "metrics = model_summary()\n",
    "save_metrics(metrics, 'Baseline')"
   ]
  }
 ],
 "metadata": {
  "kernelspec": {
   "display_name": "Python 3",
   "language": "python",
   "name": "python3"
  },
  "language_info": {
   "codemirror_mode": {
    "name": "ipython",
    "version": 3
   },
   "file_extension": ".py",
   "mimetype": "text/x-python",
   "name": "python",
   "nbconvert_exporter": "python",
   "pygments_lexer": "ipython3",
   "version": "3.8.5"
  }
 },
 "nbformat": 4,
 "nbformat_minor": 4
}
