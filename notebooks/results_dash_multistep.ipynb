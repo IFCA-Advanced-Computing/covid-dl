{
 "cells": [
  {
   "cell_type": "markdown",
   "metadata": {},
   "source": [
    "# Prediction of multistep models with error estimation\n",
    "\n",
    "To run this notebook you will need to install node.js and the plotly extension for jupyterlab:\n",
    "```bash\n",
    "curl -fsSL https://deb.nodesource.com/setup_16.x | sudo -E bash -\n",
    "sudo apt-get install -y nodejs\n",
    "jupyter labextension install jupyterlab-plotly\n",
    "pip install jupyterlab-dash\n",
    "```"
   ]
  },
  {
   "cell_type": "code",
   "execution_count": 1,
   "metadata": {},
   "outputs": [],
   "source": [
    "import sys\n",
    "sys.path.insert(0, \"/home/iheredia/ignacio/covid/covid-dl/src\")\n",
    "from paths import PATHS\n",
    "from data.base import make_splits, get_data, single_X_y"
   ]
  },
  {
   "cell_type": "code",
   "execution_count": 2,
   "metadata": {},
   "outputs": [],
   "source": [
    "import pathlib\n",
    "\n",
    "import matplotlib\n",
    "import matplotlib.pylab as plt\n",
    "import numpy as np\n",
    "import pandas as pd\n",
    "\n",
    "import dash_core_components as dcc\n",
    "import dash_html_components as html\n",
    "from dash.dependencies import Input, Output, State\n",
    "from jupyter_dash import JupyterDash\n",
    "import plotly.express as px\n",
    "import plotly.graph_objects as go"
   ]
  },
  {
   "cell_type": "code",
   "execution_count": 3,
   "metadata": {},
   "outputs": [
    {
     "name": "stderr",
     "output_type": "stream",
     "text": [
      "/home/iheredia/anaconda3/lib/python3.8/site-packages/pandas/core/frame.py:3065: SettingWithCopyWarning: \n",
      "A value is trying to be set on a copy of a slice from a DataFrame.\n",
      "Try using .loc[row_indexer,col_indexer] = value instead\n",
      "\n",
      "See the caveats in the documentation: https://pandas.pydata.org/pandas-docs/stable/user_guide/indexing.html#returning-a-view-versus-a-copy\n",
      "  self[k1] = value[k2]\n"
     ]
    }
   ],
   "source": [
    "df = get_data(trend=True, multistep=7)\n",
    "splits = make_splits(df,\n",
    "                     norm=False,\n",
    "                     multistep=7\n",
    "                    )\n",
    "X, y = single_X_y(splits)\n",
    "\n",
    "training_end = splits['val']['X'].index[0][0]  # end of training date\n",
    "validation_end = splits['test']['X'].index[0][0]  # end of validation date"
   ]
  },
  {
   "cell_type": "code",
   "execution_count": 4,
   "metadata": {},
   "outputs": [],
   "source": [
    "# Load predictions\n",
    "# pred = []\n",
    "# for f in pathlib.Path('single_step').glob('pred_*'):\n",
    "#     pred.append(pd.read_csv(f, index_col=['date', 'province']))\n",
    "# pred = pd.concat(pred, axis=1)\n",
    "pred = pd.read_csv('multi_step/pred_ff_multistep.csv', header=[0, 1], index_col=[0, 1])"
   ]
  },
  {
   "cell_type": "code",
   "execution_count": 5,
   "metadata": {},
   "outputs": [],
   "source": [
    "provinces = X.index.get_level_values(1)\n",
    "dates_dt = X.index.get_level_values(0)\n",
    "dates_dt = pd.to_datetime(dates_dt).unique()"
   ]
  },
  {
   "cell_type": "markdown",
   "metadata": {},
   "source": [
    "# Province time series"
   ]
  },
  {
   "cell_type": "code",
   "execution_count": 7,
   "metadata": {},
   "outputs": [
    {
     "data": {
      "text/html": [
       "\n",
       "        <iframe\n",
       "            width=\"100%\"\n",
       "            height=\"650\"\n",
       "            src=\"http://127.0.0.1:8064/\"\n",
       "            frameborder=\"0\"\n",
       "            allowfullscreen\n",
       "        ></iframe>\n",
       "        "
      ],
      "text/plain": [
       "<IPython.lib.display.IFrame at 0x7f389639f190>"
      ]
     },
     "metadata": {},
     "output_type": "display_data"
    }
   ],
   "source": [
    "months_begin = (dates_dt.day == 1)\n",
    "months_begin = np.arange(len(dates_dt))[months_begin]\n",
    "\n",
    "marks = {int(i): {'label': dates_dt.strftime('%b %Y')[i]} for i in months_begin}\n",
    "marks.update({dates_dt.get_loc(training_end): {'label': 'Training ending',\n",
    "                                               'style': {'color': '#f50'}},\n",
    "              dates_dt.get_loc(validation_end): {'label': 'Validation ending',\n",
    "                                                 'style': {'color': '#f50'}}\n",
    "             })\n",
    "\n",
    "app = JupyterDash(__name__)\n",
    "app.layout = html.Div([\n",
    "    html.H1(\"Province trend\"),\n",
    "\n",
    "    dcc.Dropdown(\n",
    "        id='dropdown',\n",
    "        clearable=False,\n",
    "        value=provinces[0],\n",
    "        options=[{'label': p, 'value': p} for p in provinces.unique()]),\n",
    "    \n",
    "    dcc.Slider(id='slider',\n",
    "               min=0,\n",
    "               max=len(dates_dt),\n",
    "               value=dates_dt.get_loc(training_end),\n",
    "               step=1,\n",
    "               marks=marks           \n",
    "),  \n",
    "    \n",
    "    dcc.Graph(id='graph'),\n",
    "])\n",
    "\n",
    "@app.callback(\n",
    "    Output('graph', 'figure'),\n",
    "    [Input('dropdown', 'value'),\n",
    "     Input('slider', 'value')]\n",
    ")\n",
    "def update_figure(province, dateidx):\n",
    "    \n",
    "    date = dates_dt[dateidx].strftime('%Y-%m-%d')\n",
    "\n",
    "    dfx = X.xs(province, level=1, drop_level=True)['incidence 7'].loc[:date]\n",
    "    dfy = y.xs(province, level=1, drop_level=True).loc[date]\n",
    "    dfp = pred.xs(province, level=1, drop_level=True).loc[date]\n",
    "\n",
    "    start = pd.to_datetime(date) + pd.DateOffset(days=-30)\n",
    "    dend = pd.to_datetime(date) + pd.DateOffset(days=8)\n",
    "    drange = pd.date_range(date, dend)\n",
    "\n",
    "    fig = go.Figure(layout={'template': 'seaborn',\n",
    "                            'hovermode': 'x unified',\n",
    "                            'xaxis': {'range': [start, dend]}})\n",
    "\n",
    "    fig.add_trace(go.Scatter(name='historic values',\n",
    "                             x=dfx.index,\n",
    "                             y=dfx,\n",
    "                             line={'color': 'rgba(204, 108, 108, 1)'}\n",
    "                            )\n",
    "                 )\n",
    "\n",
    "    fig.add_trace(go.Scatter(name='upper bound',\n",
    "                             x=drange,\n",
    "                             y=dfx[-1:].append(dfp['mean'] + 2 * dfp['std']),\n",
    "                             mode='lines',\n",
    "                             line={'width': 0},\n",
    "                             showlegend=False\n",
    "                            )\n",
    "                 )\n",
    "\n",
    "    fig.add_trace(go.Scatter(name='lower bound',\n",
    "                             x=drange,\n",
    "                             y=dfx[-1:].append(dfp['mean'] - 2 * dfp['std']),\n",
    "                             line={'width': 0},\n",
    "                             mode='lines',\n",
    "                             fillcolor='rgba(136, 187, 250, 0.4)',\n",
    "                             fill='tonexty',\n",
    "                             showlegend=False\n",
    "                            )\n",
    "                 )\n",
    "\n",
    "    fig.add_trace(go.Scatter(name='predictions',\n",
    "                             x=drange[1:],\n",
    "                             y=dfp['mean'],\n",
    "                             line={'color': 'rgba(70, 128, 199, 1)'}\n",
    "                            )\n",
    "                 )\n",
    "\n",
    "    fig.add_trace(go.Scatter(name='actual values',\n",
    "                             x=drange,\n",
    "                             y=[dfx[-1]] + list(dfy),                         \n",
    "                             line={'color': 'rgba(239, 122, 0, 1)'}\n",
    "                            )\n",
    "                 )\n",
    "\n",
    "\n",
    "    return fig\n",
    "\n",
    "app.run_server(mode='inline', port=8064)\n",
    "# app.run_server(mode='external', port=8075)  # bigger"
   ]
  }
 ],
 "metadata": {
  "kernelspec": {
   "display_name": "Python 3",
   "language": "python",
   "name": "python3"
  },
  "language_info": {
   "codemirror_mode": {
    "name": "ipython",
    "version": 3
   },
   "file_extension": ".py",
   "mimetype": "text/x-python",
   "name": "python",
   "nbconvert_exporter": "python",
   "pygments_lexer": "ipython3",
   "version": "3.8.5"
  }
 },
 "nbformat": 4,
 "nbformat_minor": 4
}
